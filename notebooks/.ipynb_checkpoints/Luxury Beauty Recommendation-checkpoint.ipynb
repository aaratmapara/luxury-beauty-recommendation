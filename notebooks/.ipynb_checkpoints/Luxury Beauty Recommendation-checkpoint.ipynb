{
 "cells": [
  {
   "cell_type": "markdown",
   "id": "cda8260c-db59-48e7-803f-0b42e2d854f5",
   "metadata": {},
   "source": [
    "# Luxury Beauty Product Recommendation System\n",
    "This project applies **collaborative filtering methods** on the Amazon Luxury Beauty dataset (~574k reviews, ~12k products) to build a recommendation system.  \n",
    "The focus is on comparing baseline and advanced approaches to evaluate their ability to capture user preferences.\n",
    "\n",
    "## Models\n",
    "- **Popularity Baseline** — global top-rated products  \n",
    "- **Item-based CF** — product–product similarity  \n",
    "- **User-based CF** — neighbor-based recommendations  \n",
    "- **Matrix Factorization (TruncatedSVD)** — latent factor modeling  \n",
    "\n",
    "## Goal\n",
    "To assess how different recommendation techniques perform in terms of personalization and predictive power, highlighting trade-offs between simplicity, scalability, and accuracy."
   ]
  },
  {
   "cell_type": "markdown",
   "id": "256b505d-aebc-4888-a3f8-6a8af20e0cf9",
   "metadata": {},
   "source": [
    "### Setup & Load"
   ]
  },
  {
   "cell_type": "code",
   "execution_count": 1,
   "id": "bf5e567d-952e-4241-a1c4-a058e7fe4791",
   "metadata": {},
   "outputs": [
    {
     "name": "stdout",
     "output_type": "stream",
     "text": [
      "(574628, 12)\n"
     ]
    },
    {
     "data": {
      "text/html": [
       "<div>\n",
       "<style scoped>\n",
       "    .dataframe tbody tr th:only-of-type {\n",
       "        vertical-align: middle;\n",
       "    }\n",
       "\n",
       "    .dataframe tbody tr th {\n",
       "        vertical-align: top;\n",
       "    }\n",
       "\n",
       "    .dataframe thead th {\n",
       "        text-align: right;\n",
       "    }\n",
       "</style>\n",
       "<table border=\"1\" class=\"dataframe\">\n",
       "  <thead>\n",
       "    <tr style=\"text-align: right;\">\n",
       "      <th></th>\n",
       "      <th>overall</th>\n",
       "      <th>vote</th>\n",
       "      <th>verified</th>\n",
       "      <th>reviewTime</th>\n",
       "      <th>reviewerID</th>\n",
       "      <th>asin</th>\n",
       "      <th>reviewerName</th>\n",
       "      <th>reviewText</th>\n",
       "      <th>summary</th>\n",
       "      <th>unixReviewTime</th>\n",
       "      <th>style</th>\n",
       "      <th>image</th>\n",
       "    </tr>\n",
       "  </thead>\n",
       "  <tbody>\n",
       "    <tr>\n",
       "      <th>0</th>\n",
       "      <td>2</td>\n",
       "      <td>3</td>\n",
       "      <td>True</td>\n",
       "      <td>06 15, 2010</td>\n",
       "      <td>A1Q6MUU0B2ZDQG</td>\n",
       "      <td>B00004U9V2</td>\n",
       "      <td>D. Poston</td>\n",
       "      <td>I bought two of these 8.5 fl oz hand cream, an...</td>\n",
       "      <td>dispensers don't work</td>\n",
       "      <td>1276560000</td>\n",
       "      <td>NaN</td>\n",
       "      <td>NaN</td>\n",
       "    </tr>\n",
       "    <tr>\n",
       "      <th>1</th>\n",
       "      <td>5</td>\n",
       "      <td>14</td>\n",
       "      <td>True</td>\n",
       "      <td>01 7, 2010</td>\n",
       "      <td>A3HO2SQDCZIE9S</td>\n",
       "      <td>B00004U9V2</td>\n",
       "      <td>chandra</td>\n",
       "      <td>Believe me, over the years I have tried many, ...</td>\n",
       "      <td>Best hand cream ever.</td>\n",
       "      <td>1262822400</td>\n",
       "      <td>NaN</td>\n",
       "      <td>NaN</td>\n",
       "    </tr>\n",
       "    <tr>\n",
       "      <th>2</th>\n",
       "      <td>5</td>\n",
       "      <td>NaN</td>\n",
       "      <td>True</td>\n",
       "      <td>04 18, 2018</td>\n",
       "      <td>A2EM03F99X3RJZ</td>\n",
       "      <td>B00004U9V2</td>\n",
       "      <td>Maureen G</td>\n",
       "      <td>Great hand lotion</td>\n",
       "      <td>Five Stars</td>\n",
       "      <td>1524009600</td>\n",
       "      <td>{'Size:': ' 3.5 oz.'}</td>\n",
       "      <td>NaN</td>\n",
       "    </tr>\n",
       "    <tr>\n",
       "      <th>3</th>\n",
       "      <td>5</td>\n",
       "      <td>NaN</td>\n",
       "      <td>True</td>\n",
       "      <td>04 18, 2018</td>\n",
       "      <td>A3Z74TDRGD0HU</td>\n",
       "      <td>B00004U9V2</td>\n",
       "      <td>Terry K</td>\n",
       "      <td>This is the best for the severely dry skin on ...</td>\n",
       "      <td>Five Stars</td>\n",
       "      <td>1524009600</td>\n",
       "      <td>{'Size:': ' 3.5 oz.'}</td>\n",
       "      <td>NaN</td>\n",
       "    </tr>\n",
       "    <tr>\n",
       "      <th>4</th>\n",
       "      <td>5</td>\n",
       "      <td>NaN</td>\n",
       "      <td>True</td>\n",
       "      <td>04 17, 2018</td>\n",
       "      <td>A2UXFNW9RTL4VM</td>\n",
       "      <td>B00004U9V2</td>\n",
       "      <td>Patricia Wood</td>\n",
       "      <td>The best non- oily hand cream ever. It heals o...</td>\n",
       "      <td>I always have a backup ready.</td>\n",
       "      <td>1523923200</td>\n",
       "      <td>{'Size:': ' 3.5 oz.'}</td>\n",
       "      <td>NaN</td>\n",
       "    </tr>\n",
       "  </tbody>\n",
       "</table>\n",
       "</div>"
      ],
      "text/plain": [
       "   overall vote  verified   reviewTime      reviewerID        asin  \\\n",
       "0        2    3      True  06 15, 2010  A1Q6MUU0B2ZDQG  B00004U9V2   \n",
       "1        5   14      True   01 7, 2010  A3HO2SQDCZIE9S  B00004U9V2   \n",
       "2        5  NaN      True  04 18, 2018  A2EM03F99X3RJZ  B00004U9V2   \n",
       "3        5  NaN      True  04 18, 2018   A3Z74TDRGD0HU  B00004U9V2   \n",
       "4        5  NaN      True  04 17, 2018  A2UXFNW9RTL4VM  B00004U9V2   \n",
       "\n",
       "    reviewerName                                         reviewText  \\\n",
       "0      D. Poston  I bought two of these 8.5 fl oz hand cream, an...   \n",
       "1        chandra  Believe me, over the years I have tried many, ...   \n",
       "2      Maureen G                                  Great hand lotion   \n",
       "3        Terry K  This is the best for the severely dry skin on ...   \n",
       "4  Patricia Wood  The best non- oily hand cream ever. It heals o...   \n",
       "\n",
       "                         summary  unixReviewTime                  style image  \n",
       "0          dispensers don't work      1276560000                    NaN   NaN  \n",
       "1          Best hand cream ever.      1262822400                    NaN   NaN  \n",
       "2                     Five Stars      1524009600  {'Size:': ' 3.5 oz.'}   NaN  \n",
       "3                     Five Stars      1524009600  {'Size:': ' 3.5 oz.'}   NaN  \n",
       "4  I always have a backup ready.      1523923200  {'Size:': ' 3.5 oz.'}   NaN  "
      ]
     },
     "execution_count": 1,
     "metadata": {},
     "output_type": "execute_result"
    }
   ],
   "source": [
    "# Setup & Load\n",
    "import pandas as pd\n",
    "import matplotlib.pyplot as plt\n",
    "\n",
    "df = pd.read_json(\n",
    "   \"../data/Luxury_Beauty.json.gz\",\n",
    "    lines=True,\n",
    "    compression=\"gzip\"\n",
    ")\n",
    "\n",
    "print(df.shape)\n",
    "df.head()"
   ]
  },
  {
   "cell_type": "markdown",
   "id": "1fbc5326-73bc-4c4c-9767-4f9ea4b8d508",
   "metadata": {},
   "source": [
    "**Analysis:** Data loads correctly (rows × columns match the printed shape). Core fields `reviewerID`, `asin`, and `overall` are present for recommender modeling."
   ]
  },
  {
   "cell_type": "markdown",
   "id": "db4aefcd-9649-45cc-b509-afadb23b3fd8",
   "metadata": {},
   "source": [
    "### Missing Values"
   ]
  },
  {
   "cell_type": "code",
   "execution_count": 2,
   "id": "95a228b2-c797-451b-abb2-877c26822e0e",
   "metadata": {},
   "outputs": [
    {
     "name": "stdout",
     "output_type": "stream",
     "text": [
      "Unique users: 416174\n",
      "Unique products: 12120\n"
     ]
    }
   ],
   "source": [
    "# Missing values\n",
    "df.isna().sum()\n",
    "\n",
    "# Unique users/products\n",
    "n_users = df['reviewerID'].nunique()\n",
    "n_items = df['asin'].nunique()\n",
    "print(\"Unique users:\", n_users)\n",
    "print(\"Unique products:\", n_items)"
   ]
  },
  {
   "cell_type": "markdown",
   "id": "4ba5cf55-b4f6-440a-9dee-b544a62fa55e",
   "metadata": {},
   "source": [
    "**Analysis:** Ratings (`overall`) have no missing values. Other optional fields (e.g., vote, style, image) are sparse but not needed for collaborative filtering. ~416k users and ~12k products confirm a highly sparse user–item matrix."
   ]
  },
  {
   "cell_type": "code",
   "execution_count": 3,
   "id": "d2f167eb-c946-40cb-8eba-38c6f5366211",
   "metadata": {},
   "outputs": [],
   "source": [
    "# Helper: Percent Labels\n",
    "import matplotlib.pyplot as plt\n",
    "\n",
    "def add_percentages():\n",
    "    ax = plt.gca()\n",
    "    total = sum([p.get_height() for p in ax.patches]) or 1\n",
    "    for p in ax.patches:\n",
    "        height = p.get_height()\n",
    "        pct = (height / total) * 100\n",
    "        ax.text(p.get_x() + p.get_width()/2., height, f\"{pct:.1f}%\",\n",
    "                ha=\"center\", va=\"bottom\", fontsize=9)"
   ]
  },
  {
   "cell_type": "markdown",
   "id": "756069e9-ff6c-4669-8aab-7bc4fcdc2e66",
   "metadata": {},
   "source": [
    "**Analysis:** Helper function to annotate bar charts with percentage labels."
   ]
  },
  {
   "cell_type": "code",
   "execution_count": 4,
   "id": "cf956a31-d791-4073-8b99-eea9691db482",
   "metadata": {},
   "outputs": [
    {
     "data": {
      "image/png": "[encoded data removed]",
      "text/plain": [
       "<Figure size 800x400 with 1 Axes>"
      ]
     },
     "metadata": {},
     "output_type": "display_data"
    }
   ],
   "source": [
    "# Users: Reviews per User\n",
    "user_bins = pd.cut(\n",
    "    df['reviewerID'].value_counts(),\n",
    "    bins=[0,1,5,10,20,50,500,1000,5000]\n",
    ")\n",
    "\n",
    "user_bins.value_counts().sort_index().plot(kind=\"bar\", color=\"#8B5E3C\", figsize=(8,4))\n",
    "plt.title(\"Distribution of Reviews per User\")\n",
    "plt.xlabel(\"Reviews per User (binned)\")\n",
    "plt.ylabel(\"Number of Users\")\n",
    "plt.xticks(rotation=25)\n",
    "add_percentages()\n",
    "plt.show()"
   ]
  },
  {
   "cell_type": "markdown",
   "id": "78e841ac-d516-4a0b-a51e-007fc0847a6f",
   "metadata": {},
   "source": [
    "**Analysis:** Most users contribute very few reviews (1–5). A long tail of highly active users reflects typical recommender system sparsity."
   ]
  },
  {
   "cell_type": "code",
   "execution_count": 5,
   "id": "555e4498-157e-40f2-b50e-aeeabe8f7947",
   "metadata": {},
   "outputs": [
    {
     "data": {
      "image/png": "[encoded data removed]",
      "text/plain": [
       "<Figure size 800x400 with 1 Axes>"
      ]
     },
     "metadata": {},
     "output_type": "display_data"
    }
   ],
   "source": [
    "# Products: Reviews per Product\n",
    "item_bins = pd.cut(\n",
    "    df['asin'].value_counts(),\n",
    "    bins=[0,1,5,10,20,50,100,500,1000,5000]\n",
    ")\n",
    "\n",
    "item_bins.value_counts().sort_index().plot(kind=\"bar\", color=\"#8B5E3C\", figsize=(8,4))\n",
    "plt.title(\"Distribution of Reviews per Product\")\n",
    "plt.xlabel(\"Reviews per Product (binned)\")\n",
    "plt.ylabel(\"Number of Products\")\n",
    "plt.xticks(rotation=25)\n",
    "add_percentages()\n",
    "plt.show()"
   ]
  },
  {
   "cell_type": "markdown",
   "id": "53d28eef-f2e9-451b-ad68-70c2595f0b25",
   "metadata": {},
   "source": [
    "**Analysis:** Most products receive few reviews, while a small set dominates activity — the standard “long tail” in e-commerce."
   ]
  },
  {
   "cell_type": "code",
   "execution_count": 6,
   "id": "ab026938-f929-4099-bdad-fc125fac16c9",
   "metadata": {},
   "outputs": [
    {
     "name": "stdout",
     "output_type": "stream",
     "text": [
      "Rows: 574628\n",
      "Unique users: 416174\n",
      "Unique items: 12120\n"
     ]
    },
    {
     "data": {
      "text/html": [
       "<div>\n",
       "<style scoped>\n",
       "    .dataframe tbody tr th:only-of-type {\n",
       "        vertical-align: middle;\n",
       "    }\n",
       "\n",
       "    .dataframe tbody tr th {\n",
       "        vertical-align: top;\n",
       "    }\n",
       "\n",
       "    .dataframe thead th {\n",
       "        text-align: right;\n",
       "    }\n",
       "</style>\n",
       "<table border=\"1\" class=\"dataframe\">\n",
       "  <thead>\n",
       "    <tr style=\"text-align: right;\">\n",
       "      <th></th>\n",
       "      <th>user_id</th>\n",
       "      <th>item_id</th>\n",
       "      <th>rating</th>\n",
       "    </tr>\n",
       "  </thead>\n",
       "  <tbody>\n",
       "    <tr>\n",
       "      <th>0</th>\n",
       "      <td>A1Q6MUU0B2ZDQG</td>\n",
       "      <td>B00004U9V2</td>\n",
       "      <td>2</td>\n",
       "    </tr>\n",
       "    <tr>\n",
       "      <th>1</th>\n",
       "      <td>A3HO2SQDCZIE9S</td>\n",
       "      <td>B00004U9V2</td>\n",
       "      <td>5</td>\n",
       "    </tr>\n",
       "    <tr>\n",
       "      <th>2</th>\n",
       "      <td>A2EM03F99X3RJZ</td>\n",
       "      <td>B00004U9V2</td>\n",
       "      <td>5</td>\n",
       "    </tr>\n",
       "    <tr>\n",
       "      <th>3</th>\n",
       "      <td>A3Z74TDRGD0HU</td>\n",
       "      <td>B00004U9V2</td>\n",
       "      <td>5</td>\n",
       "    </tr>\n",
       "    <tr>\n",
       "      <th>4</th>\n",
       "      <td>A2UXFNW9RTL4VM</td>\n",
       "      <td>B00004U9V2</td>\n",
       "      <td>5</td>\n",
       "    </tr>\n",
       "  </tbody>\n",
       "</table>\n",
       "</div>"
      ],
      "text/plain": [
       "          user_id     item_id  rating\n",
       "0  A1Q6MUU0B2ZDQG  B00004U9V2       2\n",
       "1  A3HO2SQDCZIE9S  B00004U9V2       5\n",
       "2  A2EM03F99X3RJZ  B00004U9V2       5\n",
       "3   A3Z74TDRGD0HU  B00004U9V2       5\n",
       "4  A2UXFNW9RTL4VM  B00004U9V2       5"
      ]
     },
     "execution_count": 6,
     "metadata": {},
     "output_type": "execute_result"
    }
   ],
   "source": [
    "# User–Item Ratings & 5-Core\n",
    "\n",
    "df_small = df[['reviewerID', 'asin', 'overall']].rename(\n",
    "    columns={'reviewerID': 'user_id', 'asin':'item_id', 'overall': 'rating'}\n",
    ")\n",
    "\n",
    "print(\"Rows:\", len(df_small))\n",
    "print(\"Unique users:\", df_small['user_id'].nunique())\n",
    "print(\"Unique items:\", df_small['item_id'].nunique())\n",
    "df_small.head()"
   ]
  },
  {
   "cell_type": "code",
   "execution_count": 7,
   "id": "352ec94a-c690-4381-be3a-bbfd1519f627",
   "metadata": {},
   "outputs": [
    {
     "name": "stdout",
     "output_type": "stream",
     "text": [
      "Original: (574628, 3) | 5-core: (49547, 3)\n"
     ]
    },
    {
     "data": {
      "text/html": [
       "<div>\n",
       "<style scoped>\n",
       "    .dataframe tbody tr th:only-of-type {\n",
       "        vertical-align: middle;\n",
       "    }\n",
       "\n",
       "    .dataframe tbody tr th {\n",
       "        vertical-align: top;\n",
       "    }\n",
       "\n",
       "    .dataframe thead th {\n",
       "        text-align: right;\n",
       "    }\n",
       "</style>\n",
       "<table border=\"1\" class=\"dataframe\">\n",
       "  <thead>\n",
       "    <tr style=\"text-align: right;\">\n",
       "      <th></th>\n",
       "      <th>user_id</th>\n",
       "      <th>item_id</th>\n",
       "      <th>rating</th>\n",
       "    </tr>\n",
       "  </thead>\n",
       "  <tbody>\n",
       "    <tr>\n",
       "      <th>51</th>\n",
       "      <td>AWCX1MPM94R1A</td>\n",
       "      <td>B00004U9V2</td>\n",
       "      <td>5</td>\n",
       "    </tr>\n",
       "    <tr>\n",
       "      <th>70</th>\n",
       "      <td>A2HOI48JK8838M</td>\n",
       "      <td>B00004U9V2</td>\n",
       "      <td>5</td>\n",
       "    </tr>\n",
       "    <tr>\n",
       "      <th>128</th>\n",
       "      <td>AZY31SPDXGJQ</td>\n",
       "      <td>B00004U9V2</td>\n",
       "      <td>5</td>\n",
       "    </tr>\n",
       "    <tr>\n",
       "      <th>147</th>\n",
       "      <td>A2NB16B6V1DXL</td>\n",
       "      <td>B00004U9V2</td>\n",
       "      <td>5</td>\n",
       "    </tr>\n",
       "    <tr>\n",
       "      <th>148</th>\n",
       "      <td>A2NB16B6V1DXL</td>\n",
       "      <td>B00004U9V2</td>\n",
       "      <td>5</td>\n",
       "    </tr>\n",
       "  </tbody>\n",
       "</table>\n",
       "</div>"
      ],
      "text/plain": [
       "            user_id     item_id  rating\n",
       "51    AWCX1MPM94R1A  B00004U9V2       5\n",
       "70   A2HOI48JK8838M  B00004U9V2       5\n",
       "128    AZY31SPDXGJQ  B00004U9V2       5\n",
       "147   A2NB16B6V1DXL  B00004U9V2       5\n",
       "148   A2NB16B6V1DXL  B00004U9V2       5"
      ]
     },
     "execution_count": 7,
     "metadata": {},
     "output_type": "execute_result"
    }
   ],
   "source": [
    "#  5-Core Filter & Pivot\n",
    "\n",
    "u_cnt = df_small['user_id'].value_counts()\n",
    "i_cnt = df_small['item_id'].value_counts()\n",
    "\n",
    "core = df_small[\n",
    "    df_small['user_id'].isin(u_cnt[u_cnt >= 5].index) &\n",
    "    df_small['item_id'].isin(i_cnt[i_cnt >= 5].index)\n",
    "].copy()\n",
    "\n",
    "print(\"Original:\", df_small.shape, \"| 5-core:\", core.shape)\n",
    "core.head()"
   ]
  },
  {
   "cell_type": "markdown",
   "id": "99f3f57d-68e4-4e02-bdd5-3e2285cffe5b",
   "metadata": {},
   "source": [
    "**Analysis:** Filtering to users/items with ≥5 ratings reduces sparsity and improves reliability of similarity estimates."
   ]
  },
  {
   "cell_type": "code",
   "execution_count": 8,
   "id": "79003b37-90a8-4281-a69d-52ef9006d4ab",
   "metadata": {},
   "outputs": [
    {
     "name": "stdout",
     "output_type": "stream",
     "text": [
      "Matrix shape: (6107, 5514)\n"
     ]
    },
    {
     "data": {
      "text/html": [
       "<div>\n",
       "<style scoped>\n",
       "    .dataframe tbody tr th:only-of-type {\n",
       "        vertical-align: middle;\n",
       "    }\n",
       "\n",
       "    .dataframe tbody tr th {\n",
       "        vertical-align: top;\n",
       "    }\n",
       "\n",
       "    .dataframe thead th {\n",
       "        text-align: right;\n",
       "    }\n",
       "</style>\n",
       "<table border=\"1\" class=\"dataframe\">\n",
       "  <thead>\n",
       "    <tr style=\"text-align: right;\">\n",
       "      <th>item_id</th>\n",
       "      <th>B00004U9V2</th>\n",
       "      <th>B0000532JH</th>\n",
       "      <th>B00005NDTD</th>\n",
       "      <th>B00005R7ZY</th>\n",
       "      <th>B00005V50B</th>\n",
       "    </tr>\n",
       "    <tr>\n",
       "      <th>user_id</th>\n",
       "      <th></th>\n",
       "      <th></th>\n",
       "      <th></th>\n",
       "      <th></th>\n",
       "      <th></th>\n",
       "    </tr>\n",
       "  </thead>\n",
       "  <tbody>\n",
       "    <tr>\n",
       "      <th>A0067293ETUPO6WG7DKU</th>\n",
       "      <td>0.0</td>\n",
       "      <td>0.0</td>\n",
       "      <td>0.0</td>\n",
       "      <td>0.0</td>\n",
       "      <td>0.0</td>\n",
       "    </tr>\n",
       "    <tr>\n",
       "      <th>A0488385844WNV2OWO9X</th>\n",
       "      <td>0.0</td>\n",
       "      <td>0.0</td>\n",
       "      <td>0.0</td>\n",
       "      <td>0.0</td>\n",
       "      <td>0.0</td>\n",
       "    </tr>\n",
       "    <tr>\n",
       "      <th>A0505999GY3IIQK03WD1</th>\n",
       "      <td>0.0</td>\n",
       "      <td>0.0</td>\n",
       "      <td>0.0</td>\n",
       "      <td>0.0</td>\n",
       "      <td>0.0</td>\n",
       "    </tr>\n",
       "    <tr>\n",
       "      <th>A0511945GWBL7PD6FC9N</th>\n",
       "      <td>0.0</td>\n",
       "      <td>0.0</td>\n",
       "      <td>0.0</td>\n",
       "      <td>0.0</td>\n",
       "      <td>0.0</td>\n",
       "    </tr>\n",
       "    <tr>\n",
       "      <th>A0916357J9P21ZUYUZO6</th>\n",
       "      <td>0.0</td>\n",
       "      <td>0.0</td>\n",
       "      <td>0.0</td>\n",
       "      <td>0.0</td>\n",
       "      <td>0.0</td>\n",
       "    </tr>\n",
       "  </tbody>\n",
       "</table>\n",
       "</div>"
      ],
      "text/plain": [
       "item_id               B00004U9V2  B0000532JH  B00005NDTD  B00005R7ZY  \\\n",
       "user_id                                                                \n",
       "A0067293ETUPO6WG7DKU         0.0         0.0         0.0         0.0   \n",
       "A0488385844WNV2OWO9X         0.0         0.0         0.0         0.0   \n",
       "A0505999GY3IIQK03WD1         0.0         0.0         0.0         0.0   \n",
       "A0511945GWBL7PD6FC9N         0.0         0.0         0.0         0.0   \n",
       "A0916357J9P21ZUYUZO6         0.0         0.0         0.0         0.0   \n",
       "\n",
       "item_id               B00005V50B  \n",
       "user_id                           \n",
       "A0067293ETUPO6WG7DKU         0.0  \n",
       "A0488385844WNV2OWO9X         0.0  \n",
       "A0505999GY3IIQK03WD1         0.0  \n",
       "A0511945GWBL7PD6FC9N         0.0  \n",
       "A0916357J9P21ZUYUZO6         0.0  "
      ]
     },
     "execution_count": 8,
     "metadata": {},
     "output_type": "execute_result"
    }
   ],
   "source": [
    "# User–Item Matrix\n",
    "user_item_matrix = core.pivot_table(\n",
    "    index=\"user_id\",\n",
    "    columns=\"item_id\",\n",
    "    values=\"rating\"\n",
    ").fillna(0)\n",
    "\n",
    "print(\"Matrix shape:\", user_item_matrix.shape)\n",
    "user_item_matrix.iloc[:5, :5]"
   ]
  },
  {
   "cell_type": "markdown",
   "id": "afb727a1-6dd9-4cc8-916c-8147ba31aad6",
   "metadata": {},
   "source": [
    "**Analysis:** The sparse pivot matrix enables similarity and factorization methods."
   ]
  },
  {
   "cell_type": "code",
   "execution_count": 9,
   "id": "b47654b0-db9b-44a2-a387-99c3f2ec529c",
   "metadata": {},
   "outputs": [
    {
     "data": {
      "text/html": [
       "<div>\n",
       "<style scoped>\n",
       "    .dataframe tbody tr th:only-of-type {\n",
       "        vertical-align: middle;\n",
       "    }\n",
       "\n",
       "    .dataframe tbody tr th {\n",
       "        vertical-align: top;\n",
       "    }\n",
       "\n",
       "    .dataframe thead th {\n",
       "        text-align: right;\n",
       "    }\n",
       "</style>\n",
       "<table border=\"1\" class=\"dataframe\">\n",
       "  <thead>\n",
       "    <tr style=\"text-align: right;\">\n",
       "      <th></th>\n",
       "      <th>item_id</th>\n",
       "      <th>count</th>\n",
       "      <th>mean</th>\n",
       "    </tr>\n",
       "  </thead>\n",
       "  <tbody>\n",
       "    <tr>\n",
       "      <th>6589</th>\n",
       "      <td>B00EMCGTAW</td>\n",
       "      <td>67</td>\n",
       "      <td>4.940</td>\n",
       "    </tr>\n",
       "    <tr>\n",
       "      <th>2198</th>\n",
       "      <td>B001F7J8RI</td>\n",
       "      <td>68</td>\n",
       "      <td>4.912</td>\n",
       "    </tr>\n",
       "    <tr>\n",
       "      <th>1379</th>\n",
       "      <td>B000VIZEOS</td>\n",
       "      <td>110</td>\n",
       "      <td>4.891</td>\n",
       "    </tr>\n",
       "    <tr>\n",
       "      <th>1450</th>\n",
       "      <td>B000WT9VTA</td>\n",
       "      <td>82</td>\n",
       "      <td>4.878</td>\n",
       "    </tr>\n",
       "    <tr>\n",
       "      <th>2570</th>\n",
       "      <td>B001QN3836</td>\n",
       "      <td>78</td>\n",
       "      <td>4.872</td>\n",
       "    </tr>\n",
       "    <tr>\n",
       "      <th>...</th>\n",
       "      <td>...</td>\n",
       "      <td>...</td>\n",
       "      <td>...</td>\n",
       "    </tr>\n",
       "    <tr>\n",
       "      <th>11911</th>\n",
       "      <td>B01EXAC212</td>\n",
       "      <td>75</td>\n",
       "      <td>2.867</td>\n",
       "    </tr>\n",
       "    <tr>\n",
       "      <th>443</th>\n",
       "      <td>B000BBGS1S</td>\n",
       "      <td>95</td>\n",
       "      <td>2.811</td>\n",
       "    </tr>\n",
       "    <tr>\n",
       "      <th>520</th>\n",
       "      <td>B000C9M0UW</td>\n",
       "      <td>95</td>\n",
       "      <td>2.811</td>\n",
       "    </tr>\n",
       "    <tr>\n",
       "      <th>11888</th>\n",
       "      <td>B01ESD5ACM</td>\n",
       "      <td>81</td>\n",
       "      <td>2.704</td>\n",
       "    </tr>\n",
       "    <tr>\n",
       "      <th>9565</th>\n",
       "      <td>B00TZ9KHWS</td>\n",
       "      <td>63</td>\n",
       "      <td>1.968</td>\n",
       "    </tr>\n",
       "  </tbody>\n",
       "</table>\n",
       "<p>2327 rows × 3 columns</p>\n",
       "</div>"
      ],
      "text/plain": [
       "          item_id  count   mean\n",
       "6589   B00EMCGTAW     67  4.940\n",
       "2198   B001F7J8RI     68  4.912\n",
       "1379   B000VIZEOS    110  4.891\n",
       "1450   B000WT9VTA     82  4.878\n",
       "2570   B001QN3836     78  4.872\n",
       "...           ...    ...    ...\n",
       "11911  B01EXAC212     75  2.867\n",
       "443    B000BBGS1S     95  2.811\n",
       "520    B000C9M0UW     95  2.811\n",
       "11888  B01ESD5ACM     81  2.704\n",
       "9565   B00TZ9KHWS     63  1.968\n",
       "\n",
       "[2327 rows x 3 columns]"
      ]
     },
     "execution_count": 9,
     "metadata": {},
     "output_type": "execute_result"
    }
   ],
   "source": [
    "# Popularity Stats\n",
    "item_stats = (\n",
    "    df_small\n",
    "    .groupby('item_id')['rating']\n",
    "    .agg(count='count', mean='mean')\n",
    "    .reset_index()\n",
    ")\n",
    "\n",
    "top_items = (\n",
    "    item_stats[item_stats['count'] >= 50]\n",
    "    .sort_values(['mean', 'count'], ascending=[False, False])\n",
    ")\n",
    "\n",
    "top_items.round({'mean':3})"
   ]
  },
  {
   "cell_type": "markdown",
   "id": "b7f12fe5-b004-48ea-82de-11d0267af845",
   "metadata": {},
   "source": [
    "**Analysis:** Provides a global popularity baseline by ranking items with many high ratings."
   ]
  },
  {
   "cell_type": "code",
   "execution_count": 10,
   "id": "03ae0220-9274-4ce9-9fa1-327cb4d88f61",
   "metadata": {},
   "outputs": [
    {
     "name": "stdout",
     "output_type": "stream",
     "text": [
      "Train: (39637, 3) Test: (9910, 3)\n"
     ]
    },
    {
     "data": {
      "text/html": [
       "<div>\n",
       "<style scoped>\n",
       "    .dataframe tbody tr th:only-of-type {\n",
       "        vertical-align: middle;\n",
       "    }\n",
       "\n",
       "    .dataframe tbody tr th {\n",
       "        vertical-align: top;\n",
       "    }\n",
       "\n",
       "    .dataframe thead th {\n",
       "        text-align: right;\n",
       "    }\n",
       "</style>\n",
       "<table border=\"1\" class=\"dataframe\">\n",
       "  <thead>\n",
       "    <tr style=\"text-align: right;\">\n",
       "      <th>item_id</th>\n",
       "      <th>B00004U9V2</th>\n",
       "      <th>B0000532JH</th>\n",
       "      <th>B00005NDTD</th>\n",
       "      <th>B00005R7ZY</th>\n",
       "      <th>B00005V50B</th>\n",
       "    </tr>\n",
       "    <tr>\n",
       "      <th>item_id</th>\n",
       "      <th></th>\n",
       "      <th></th>\n",
       "      <th></th>\n",
       "      <th></th>\n",
       "      <th></th>\n",
       "    </tr>\n",
       "  </thead>\n",
       "  <tbody>\n",
       "    <tr>\n",
       "      <th>B00004U9V2</th>\n",
       "      <td>1.0</td>\n",
       "      <td>0.000000</td>\n",
       "      <td>0.0</td>\n",
       "      <td>0.000000</td>\n",
       "      <td>0.0</td>\n",
       "    </tr>\n",
       "    <tr>\n",
       "      <th>B0000532JH</th>\n",
       "      <td>0.0</td>\n",
       "      <td>1.000000</td>\n",
       "      <td>0.0</td>\n",
       "      <td>0.780869</td>\n",
       "      <td>0.0</td>\n",
       "    </tr>\n",
       "    <tr>\n",
       "      <th>B00005NDTD</th>\n",
       "      <td>0.0</td>\n",
       "      <td>0.000000</td>\n",
       "      <td>1.0</td>\n",
       "      <td>0.000000</td>\n",
       "      <td>0.0</td>\n",
       "    </tr>\n",
       "    <tr>\n",
       "      <th>B00005R7ZY</th>\n",
       "      <td>0.0</td>\n",
       "      <td>0.780869</td>\n",
       "      <td>0.0</td>\n",
       "      <td>1.000000</td>\n",
       "      <td>0.0</td>\n",
       "    </tr>\n",
       "    <tr>\n",
       "      <th>B00005V50B</th>\n",
       "      <td>0.0</td>\n",
       "      <td>0.000000</td>\n",
       "      <td>0.0</td>\n",
       "      <td>0.000000</td>\n",
       "      <td>1.0</td>\n",
       "    </tr>\n",
       "  </tbody>\n",
       "</table>\n",
       "</div>"
      ],
      "text/plain": [
       "item_id     B00004U9V2  B0000532JH  B00005NDTD  B00005R7ZY  B00005V50B\n",
       "item_id                                                               \n",
       "B00004U9V2         1.0    0.000000         0.0    0.000000         0.0\n",
       "B0000532JH         0.0    1.000000         0.0    0.780869         0.0\n",
       "B00005NDTD         0.0    0.000000         1.0    0.000000         0.0\n",
       "B00005R7ZY         0.0    0.780869         0.0    1.000000         0.0\n",
       "B00005V50B         0.0    0.000000         0.0    0.000000         1.0"
      ]
     },
     "execution_count": 10,
     "metadata": {},
     "output_type": "execute_result"
    }
   ],
   "source": [
    "# Item-Based CF: Similarity & Split\n",
    "\n",
    "from sklearn.metrics.pairwise import cosine_similarity\n",
    "from sklearn.model_selection import train_test_split\n",
    "\n",
    "# Train/test split on 5-core\n",
    "train_df, test_df = train_test_split(core, test_size=0.2, random_state=42)\n",
    "print(\"Train:\", train_df.shape, \"Test:\", test_df.shape)\n",
    "\n",
    "# Train matrix & item similarity\n",
    "train_matrix = train_df.pivot_table(\n",
    "    index='user_id', columns='item_id', values='rating'\n",
    ").fillna(0)\n",
    "\n",
    "item_matrix = train_matrix.T\n",
    "item_similarity = cosine_similarity(item_matrix)\n",
    "import pandas as pd\n",
    "item_sim_df = pd.DataFrame(item_similarity, index=item_matrix.index, columns=item_matrix.index)\n",
    "item_sim_df.iloc[:5, :5]"
   ]
  },
  {
   "cell_type": "markdown",
   "id": "4456789d-2bd7-4342-a817-539eff4cbf10",
   "metadata": {},
   "source": [
    "**Analysis:** Cosine similarity between items supports item–item recommendations. Train/test split ensures evaluation on unseen data."
   ]
  },
  {
   "cell_type": "code",
   "execution_count": 11,
   "id": "4002f073-55f7-4d9e-aa93-b34f81f0c70e",
   "metadata": {},
   "outputs": [
    {
     "name": "stdout",
     "output_type": "stream",
     "text": [
      "Item-based CF - Precision@5: 0.065, Recall@5: 0.155\n"
     ]
    }
   ],
   "source": [
    "# Item-CF: Recommend & Evaluate\n",
    "\n",
    "def recommend_items_for_user(user_id, train_matrix, item_sim_df, k=5):\n",
    "    if user_id not in train_matrix.index:\n",
    "        return []\n",
    "    user_ratings = train_matrix.loc[user_id]\n",
    "    rated_items = user_ratings[user_ratings > 0]\n",
    "    if rated_items.empty:\n",
    "        return []\n",
    "    scores = item_sim_df[rated_items.index].dot(rated_items)\n",
    "    scores = scores.drop(rated_items.index, errors=\"ignore\")\n",
    "    return scores.sort_values(ascending=False).head(k).index.tolist()\n",
    "\n",
    "def precision_recall_at_k (test_df, train_matrix, item_sim_df, k=5):\n",
    "    hits, total_recs, total_relevant = 0, 0, 0\n",
    "    for user_id in test_df['user_id'].unique():\n",
    "        true_items = test_df[test_df['user_id'] == user_id]['item_id'].tolist()\n",
    "        if not true_items:\n",
    "            continue\n",
    "        recs = recommend_items_for_user(user_id, train_matrix, item_sim_df, k)\n",
    "        hits += len(set(recs) & set(true_items))\n",
    "        total_recs += len(recs)\n",
    "        total_relevant += len(true_items)\n",
    "    precision = hits / total_recs if total_recs else 0 \n",
    "    recall = hits / total_relevant if total_relevant else 0\n",
    "    return precision, recall\n",
    "\n",
    "precision, recall = precision_recall_at_k(test_df, train_matrix, item_sim_df, k=5)\n",
    "print(f\"Item-based CF - Precision@5: {precision:.3f}, Recall@5: {recall:.3f}\")"
   ]
  },
  {
   "cell_type": "markdown",
   "id": "b9544658-cf9c-48c2-8170-9bd6810bc0e5",
   "metadata": {},
   "source": [
    "**Analysis:** Item-based CF delivers higher precision and recall than the popularity baseline."
   ]
  },
  {
   "cell_type": "code",
   "execution_count": 12,
   "id": "a6c80354-53a6-4777-b4f4-32ee90713214",
   "metadata": {},
   "outputs": [
    {
     "name": "stdout",
     "output_type": "stream",
     "text": [
      "User-based CF — Precision@5: 0.050, Recall@5: 0.120\n"
     ]
    }
   ],
   "source": [
    "# User-CF: Similarity, Recommend & Evaluate\n",
    "\n",
    "from sklearn.metrics.pairwise import cosine_similarity\n",
    "import pandas as pd\n",
    "\n",
    "user_matrix = train_matrix\n",
    "user_similarity = cosine_similarity(user_matrix)\n",
    "user_sim_df = pd.DataFrame(user_similarity, index=user_matrix.index, columns=user_matrix.index)\n",
    "\n",
    "def recommend_items_user_based(user_id, train_matrix, user_sim_df, k=5):\n",
    "    if user_id not in train_matrix.index:\n",
    "        return []\n",
    "    similar_users = user_sim_df[user_id].sort_values(ascending=False).iloc[1:11]  # top 10 neighbors\n",
    "    neighbor_ratings = train_matrix.loc[similar_users.index].T.dot(similar_users)\n",
    "    seen_idx = set(train_matrix.loc[user_id][train_matrix.loc[user_id] > 0].index)\n",
    "    recs = neighbor_ratings.drop(index=list(seen_idx), errors=\"ignore\")\n",
    "    return recs.sort_values(ascending=False).head(k).index.tolist()\n",
    "\n",
    "def precision_recall_user_cf(test_df, train_matrix, user_sim_df, k=5):\n",
    "    hits, total_recs, total_relevant = 0, 0, 0\n",
    "    for user_id in test_df['user_id'].unique():\n",
    "        true_items = test_df[test_df['user_id'] == user_id]['item_id'].tolist()\n",
    "        if not true_items:\n",
    "            continue\n",
    "        recs = recommend_items_user_based(user_id, train_matrix, user_sim_df, k)\n",
    "        hits += len(set(recs) & set(true_items))\n",
    "        total_recs += len(recs)\n",
    "        total_relevant += len(true_items)\n",
    "    precision = hits / total_recs if total_recs else 0\n",
    "    recall = hits / total_relevant if total_relevant else 0\n",
    "    return precision, recall\n",
    "\n",
    "precision, recall = precision_recall_user_cf(test_df, train_matrix, user_sim_df, k=5)\n",
    "print(f\"User-based CF — Precision@5: {precision:.3f}, Recall@5: {recall:.3f}\")"
   ]
  },
  {
   "cell_type": "markdown",
   "id": "310ebd50-88bc-424b-88a6-cb24eb8f7b4d",
   "metadata": {},
   "source": [
    "**Analysis:** User-based CF finds neighbor users. Performance is competitive but slightly lower recall than item-based CF."
   ]
  },
  {
   "cell_type": "code",
   "execution_count": 13,
   "id": "4f0ac8ad-fb16-4136-bd72-cb137fa8bc05",
   "metadata": {},
   "outputs": [
    {
     "data": {
      "text/html": [
       "<div>\n",
       "<style scoped>\n",
       "    .dataframe tbody tr th:only-of-type {\n",
       "        vertical-align: middle;\n",
       "    }\n",
       "\n",
       "    .dataframe tbody tr th {\n",
       "        vertical-align: top;\n",
       "    }\n",
       "\n",
       "    .dataframe thead th {\n",
       "        text-align: right;\n",
       "    }\n",
       "</style>\n",
       "<table border=\"1\" class=\"dataframe\">\n",
       "  <thead>\n",
       "    <tr style=\"text-align: right;\">\n",
       "      <th></th>\n",
       "      <th>Model</th>\n",
       "      <th>Precision@5</th>\n",
       "      <th>Recall@5</th>\n",
       "    </tr>\n",
       "  </thead>\n",
       "  <tbody>\n",
       "    <tr>\n",
       "      <th>0</th>\n",
       "      <td>Baseline (Popularity)</td>\n",
       "      <td>0.002</td>\n",
       "      <td>0.006</td>\n",
       "    </tr>\n",
       "    <tr>\n",
       "      <th>1</th>\n",
       "      <td>Item-based CF</td>\n",
       "      <td>0.065</td>\n",
       "      <td>0.155</td>\n",
       "    </tr>\n",
       "    <tr>\n",
       "      <th>2</th>\n",
       "      <td>User-based CF</td>\n",
       "      <td>0.050</td>\n",
       "      <td>0.120</td>\n",
       "    </tr>\n",
       "  </tbody>\n",
       "</table>\n",
       "</div>"
      ],
      "text/plain": [
       "                   Model  Precision@5  Recall@5\n",
       "0  Baseline (Popularity)        0.002     0.006\n",
       "1          Item-based CF        0.065     0.155\n",
       "2          User-based CF        0.050     0.120"
      ]
     },
     "metadata": {},
     "output_type": "display_data"
    }
   ],
   "source": [
    "# Baseline Recs & Comparison Table\n",
    "\n",
    "# Baseline (Popularity) from TRAIN\n",
    "pop_stats = (\n",
    "    train_df.groupby('item_id')['rating']\n",
    "    .agg(count='count', mean='mean')\n",
    "    .query('count >= 50')\n",
    "    .sort_values(['mean','count'], ascending=[False, False])\n",
    ")\n",
    "global_top = pop_stats.index.tolist()\n",
    "\n",
    "def recommend_pop_for_user(user_id, train_matrix, k=5):\n",
    "    if user_id not in train_matrix.index:\n",
    "        return []\n",
    "    seen = set(train_matrix.loc[user_id][train_matrix.loc[user_id] > 0].index)\n",
    "    recs = [it for it in global_top if it not in seen][:k]\n",
    "    return recs\n",
    "\n",
    "def precision_recall_pop(test_df, train_matrix, k=5):\n",
    "    hits = total_recs = total_relevant = 0\n",
    "    for uid in test_df['user_id'].unique():\n",
    "        true_items = test_df.loc[test_df['user_id']==uid, 'item_id'].tolist()\n",
    "        if not true_items:\n",
    "            continue\n",
    "        recs = recommend_pop_for_user(uid, train_matrix, k)\n",
    "        hits += len(set(recs) & set(true_items))\n",
    "        total_recs += len(recs)\n",
    "        total_relevant += len(true_items)\n",
    "    precision = hits/total_recs if total_recs else 0\n",
    "    recall = hits/total_relevant if total_relevant else 0\n",
    "    return precision, recall\n",
    "\n",
    "k = 5\n",
    "prec_pop, rec_pop   = precision_recall_pop(test_df, train_matrix, k)\n",
    "prec_item, rec_item = precision_recall_at_k(test_df, train_matrix, item_sim_df, k)\n",
    "prec_user, rec_user = precision_recall_user_cf(test_df, train_matrix, user_sim_df, k)\n",
    "\n",
    "import pandas as pd\n",
    "df_compare = pd.DataFrame([\n",
    "    {\"Model\": \"Baseline (Popularity)\", \"Precision@5\": round(prec_pop,3),  \"Recall@5\": round(rec_pop,3)},\n",
    "    {\"Model\": \"Item-based CF\",        \"Precision@5\": round(prec_item,3), \"Recall@5\": round(rec_item,3)},\n",
    "    {\"Model\": \"User-based CF\",        \"Precision@5\": round(prec_user,3), \"Recall@5\": round(rec_user,3)},\n",
    "])\n",
    "display(df_compare)"
   ]
  },
  {
   "cell_type": "markdown",
   "id": "c35b4b49-76ea-4836-83a0-12e58e01b49f",
   "metadata": {},
   "source": [
    "**Analysis:** Comparison confirms CF methods outperform the popularity baseline, with item-based slightly ahead on recall."
   ]
  },
  {
   "cell_type": "code",
   "execution_count": 14,
   "id": "5a78ff84-c5ce-402e-a9cb-67dfe535705d",
   "metadata": {},
   "outputs": [
    {
     "data": {
      "text/plain": [
       "((6107, 5514), 42244)"
      ]
     },
     "execution_count": 14,
     "metadata": {},
     "output_type": "execute_result"
    }
   ],
   "source": [
    "# SVD Build & Evaluate\n",
    "\n",
    "from scipy.sparse import csr_matrix\n",
    "import numpy as np\n",
    "\n",
    "# map ids → integer indices\n",
    "user_index = {u:i for i,u in enumerate(core['user_id'].unique())}\n",
    "item_index = {i:j for j,i in enumerate(core['item_id'].unique())}\n",
    "\n",
    "rows = core['user_id'].map(user_index)\n",
    "cols = core['item_id'].map(item_index)\n",
    "vals = core['rating'].astype(float)\n",
    "\n",
    "R = csr_matrix((vals, (rows, cols)), shape=(len(user_index), len(item_index)))\n",
    "R.shape, R.nnz"
   ]
  },
  {
   "cell_type": "markdown",
   "id": "ad910594-96d6-46ef-95ec-0adfab10f320",
   "metadata": {},
   "source": [
    "**Analysis:** Sparse matrix construction enables scalable matrix factorization."
   ]
  },
  {
   "cell_type": "code",
   "execution_count": 15,
   "id": "595ab7a0-04be-4c16-88b5-d769df618794",
   "metadata": {},
   "outputs": [
    {
     "data": {
      "text/plain": [
       "((6107, 50), (5514, 50))"
      ]
     },
     "execution_count": 15,
     "metadata": {},
     "output_type": "execute_result"
    }
   ],
   "source": [
    "from sklearn.decomposition import TruncatedSVD\n",
    "\n",
    "n_factors = 50\n",
    "svd = TruncatedSVD(n_components=n_factors, random_state=42)\n",
    "U = svd.fit_transform(R)          # user factors (n_users × k)\n",
    "V = svd.components_.T             # item factors (n_items × k)\n",
    "U.shape, V.shape"
   ]
  },
  {
   "cell_type": "markdown",
   "id": "a7b75c4c-fe7a-48de-8a3e-baa466707b24",
   "metadata": {},
   "source": [
    "**Analysis:** SVD extracts latent user and item factors summarizing preference patterns."
   ]
  },
  {
   "cell_type": "code",
   "execution_count": 16,
   "id": "56db7098-5d32-4fcc-95ab-4a806d46b09d",
   "metadata": {},
   "outputs": [
    {
     "name": "stdout",
     "output_type": "stream",
     "text": [
      "TruncatedSVD — Precision@5: 0.074, Recall@5: 0.186\n"
     ]
    }
   ],
   "source": [
    "# helpers\n",
    "inv_user = np.array(list(user_index.keys()))\n",
    "inv_item = np.array(list(item_index.keys()))\n",
    "\n",
    "seen_train = {}\n",
    "for u, i in train_df[['user_id','item_id']].itertuples(index=False):\n",
    "    seen_train.setdefault(u, set()).add(i)\n",
    "\n",
    "from collections import defaultdict\n",
    "true_test = defaultdict(set)\n",
    "for u, i in test_df[['user_id','item_id']].itertuples(index=False):\n",
    "    true_test[u].add(i)\n",
    "\n",
    "def svd_recommend_topk(user_id, k=5):\n",
    "    if user_id not in user_index:\n",
    "        return []\n",
    "    uidx = user_index[user_id]\n",
    "    scores = U[uidx] @ V.T\n",
    "    s = pd.Series(scores, index=inv_item)\n",
    "    seen = seen_train.get(user_id, set())\n",
    "    s = s.drop(index=list(seen), errors=\"ignore\")\n",
    "    return s.sort_values(ascending=False).head(k).index.tolist()\n",
    "\n",
    "def precision_recall_at_k_svd(k=5):\n",
    "    hits = tot_recs = tot_rel = 0\n",
    "    for u in true_test.keys():\n",
    "        recs = svd_recommend_topk(u, k)\n",
    "        rel = true_test[u]\n",
    "        hits += len(set(recs) & rel)\n",
    "        tot_recs += len(recs)\n",
    "        tot_rel  += len(rel)\n",
    "    precision = hits/tot_recs if tot_recs else 0\n",
    "    recall    = hits/tot_rel  if tot_rel  else 0\n",
    "    return precision, recall\n",
    "\n",
    "p5, r5 = precision_recall_at_k_svd(k=5)\n",
    "print(f\"TruncatedSVD — Precision@5: {p5:.3f}, Recall@5: {r5:.3f}\")"
   ]
  },
  {
   "cell_type": "markdown",
   "id": "f81e9268-99e7-444f-a664-25030e776368",
   "metadata": {},
   "source": [
    "**Analysis:** SVD achieves the strongest recall (~0.186) with competitive precision, outperforming both item- and user-based CF."
   ]
  },
  {
   "cell_type": "markdown",
   "id": "a79811b0-70a5-4309-baaa-00320007e55f",
   "metadata": {},
   "source": [
    "# Model Comparison\n",
    "\n",
    "| Model                  | Precision@5 | Recall@5 |\n",
    "|-------------------------|-------------|----------|\n",
    "| Baseline (Popularity)  | 0.002       | 0.006    |\n",
    "| Item-based CF          | 0.065       | 0.155    |\n",
    "| User-based CF          | 0.050       | 0.120    |\n",
    "| Matrix Factorization (SVD) | 0.074   | 0.186    |\n",
    "\n",
    "**Analysis:** Collaborative filtering methods outperform the simple popularity baseline.  \n",
    "- **Item-based CF** improves recall by leveraging product similarities.  \n",
    "- **User-based CF** provides competitive precision through neighbor user preferences.  \n",
    "- **SVD** achieves the highest recall and balanced performance, making it the most effective approach overall."
   ]
  },
  {
   "cell_type": "markdown",
   "id": "f922f035-d089-40f1-b4a4-a7d8b4447e52",
   "metadata": {},
   "source": [
    "## Results and Limitations\n",
    "Overall, collaborative filtering methods significantly outperformed the popularity baseline, with SVD providing the most balanced performance. However, the dataset’s sparsity and skew toward high ratings limited the models’ effectiveness, and the cold-start problem for new users and products remained unresolved.\n",
    "\n",
    "## Next Steps\n",
    "Future improvements could include tuning hyperparameters, evaluating recommendations at higher values of K, or developing hybrid models that combine collaborative filtering with product metadata such as descriptions or categories. These steps would enhance personalization and improve coverage in real-world applications."
   ]
  },
  {
   "cell_type": "code",
   "execution_count": null,
   "id": "8cf3e0ff-3b01-4c99-9b43-5907a209aa01",
   "metadata": {},
   "outputs": [],
   "source": []
  }
 ],
 "metadata": {
  "kernelspec": {
   "display_name": "Python 3 (ipykernel)",
   "language": "python",
   "name": "python3"
  },
  "language_info": {
   "codemirror_mode": {
    "name": "ipython",
    "version": 3
   },
   "file_extension": ".py",
   "mimetype": "text/x-python",
   "name": "python",
   "nbconvert_exporter": "python",
   "pygments_lexer": "ipython3",
   "version": "3.13.5"
  }
 },
 "nbformat": 4,
 "nbformat_minor": 5
}
