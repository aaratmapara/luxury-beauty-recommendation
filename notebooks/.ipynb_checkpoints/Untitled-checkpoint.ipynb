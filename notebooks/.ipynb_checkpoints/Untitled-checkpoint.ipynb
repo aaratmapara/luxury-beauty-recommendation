{
 "cells": [
  {
   "cell_type": "markdown",
   "id": "0744ed86-0f3d-4616-9dd9-bb462c9fcf3e",
   "metadata": {},
   "source": [
    "# Luxury Beauty Product Recommendation System\n",
    "\n",
    "### Abstract\n",
    "This project builds a collaborative filtering recommendation system using the Amazon Luxury Beauty dataset. With over 574,000 product reviews across 12,000 beauty products, the goal is to predict user preferences and recommend relevant products. Such systems are widely used in e-commerce to improve customer experience and increase sales.\n",
    "\n",
    "### Problem Statement\n",
    "E-commerce platforms often face the challenge of helping customers discover products they are likely to purchase.  \n",
    "The task here is to build a recommendation engine that predicts user preferences for luxury beauty products based on past reviews and ratings.\n",
    "\n",
    "### Plan\n",
    "1. **Load & Explore Data** – Understand the structure of the reviews dataset (users, items, ratings).  \n",
    "2. **Data Preparation** – Create a user–item matrix with ratings as inputs for recommendation.  \n",
    "3. **Baseline Model** – Implement a popularity-based recommender.  \n",
    "4. **Collaborative Filtering** – Apply user-based and item-based approaches to generate personalized recommendations.  \n",
    "5. **Evaluation** – Measure model performance using metrics like Precision@k and Recall@k.  \n",
    "6. **Business Case** – Interpret results in the context of e-commerce (customer engagement, product discovery, sales uplift).  \n",
    "\n",
    "**Reproducibility Note:**  \n",
    "All experiments use `random_state=42` (where applicable) to ensure consistent results when rerunning the notebook.  "
   ]
  },
  {
   "cell_type": "code",
   "execution_count": 1,
   "id": "de1bd89d-c056-47e4-93eb-c98ff8d7b7d4",
   "metadata": {},
   "outputs": [
    {
     "name": "stdout",
     "output_type": "stream",
     "text": [
      "(574628, 12)\n"
     ]
    },
    {
     "data": {
      "text/html": [
       "<div>\n",
       "<style scoped>\n",
       "    .dataframe tbody tr th:only-of-type {\n",
       "        vertical-align: middle;\n",
       "    }\n",
       "\n",
       "    .dataframe tbody tr th {\n",
       "        vertical-align: top;\n",
       "    }\n",
       "\n",
       "    .dataframe thead th {\n",
       "        text-align: right;\n",
       "    }\n",
       "</style>\n",
       "<table border=\"1\" class=\"dataframe\">\n",
       "  <thead>\n",
       "    <tr style=\"text-align: right;\">\n",
       "      <th></th>\n",
       "      <th>overall</th>\n",
       "      <th>vote</th>\n",
       "      <th>verified</th>\n",
       "      <th>reviewTime</th>\n",
       "      <th>reviewerID</th>\n",
       "      <th>asin</th>\n",
       "      <th>reviewerName</th>\n",
       "      <th>reviewText</th>\n",
       "      <th>summary</th>\n",
       "      <th>unixReviewTime</th>\n",
       "      <th>style</th>\n",
       "      <th>image</th>\n",
       "    </tr>\n",
       "  </thead>\n",
       "  <tbody>\n",
       "    <tr>\n",
       "      <th>0</th>\n",
       "      <td>2</td>\n",
       "      <td>3</td>\n",
       "      <td>True</td>\n",
       "      <td>06 15, 2010</td>\n",
       "      <td>A1Q6MUU0B2ZDQG</td>\n",
       "      <td>B00004U9V2</td>\n",
       "      <td>D. Poston</td>\n",
       "      <td>I bought two of these 8.5 fl oz hand cream, an...</td>\n",
       "      <td>dispensers don't work</td>\n",
       "      <td>1276560000</td>\n",
       "      <td>NaN</td>\n",
       "      <td>NaN</td>\n",
       "    </tr>\n",
       "    <tr>\n",
       "      <th>1</th>\n",
       "      <td>5</td>\n",
       "      <td>14</td>\n",
       "      <td>True</td>\n",
       "      <td>01 7, 2010</td>\n",
       "      <td>A3HO2SQDCZIE9S</td>\n",
       "      <td>B00004U9V2</td>\n",
       "      <td>chandra</td>\n",
       "      <td>Believe me, over the years I have tried many, ...</td>\n",
       "      <td>Best hand cream ever.</td>\n",
       "      <td>1262822400</td>\n",
       "      <td>NaN</td>\n",
       "      <td>NaN</td>\n",
       "    </tr>\n",
       "    <tr>\n",
       "      <th>2</th>\n",
       "      <td>5</td>\n",
       "      <td>NaN</td>\n",
       "      <td>True</td>\n",
       "      <td>04 18, 2018</td>\n",
       "      <td>A2EM03F99X3RJZ</td>\n",
       "      <td>B00004U9V2</td>\n",
       "      <td>Maureen G</td>\n",
       "      <td>Great hand lotion</td>\n",
       "      <td>Five Stars</td>\n",
       "      <td>1524009600</td>\n",
       "      <td>{'Size:': ' 3.5 oz.'}</td>\n",
       "      <td>NaN</td>\n",
       "    </tr>\n",
       "    <tr>\n",
       "      <th>3</th>\n",
       "      <td>5</td>\n",
       "      <td>NaN</td>\n",
       "      <td>True</td>\n",
       "      <td>04 18, 2018</td>\n",
       "      <td>A3Z74TDRGD0HU</td>\n",
       "      <td>B00004U9V2</td>\n",
       "      <td>Terry K</td>\n",
       "      <td>This is the best for the severely dry skin on ...</td>\n",
       "      <td>Five Stars</td>\n",
       "      <td>1524009600</td>\n",
       "      <td>{'Size:': ' 3.5 oz.'}</td>\n",
       "      <td>NaN</td>\n",
       "    </tr>\n",
       "    <tr>\n",
       "      <th>4</th>\n",
       "      <td>5</td>\n",
       "      <td>NaN</td>\n",
       "      <td>True</td>\n",
       "      <td>04 17, 2018</td>\n",
       "      <td>A2UXFNW9RTL4VM</td>\n",
       "      <td>B00004U9V2</td>\n",
       "      <td>Patricia Wood</td>\n",
       "      <td>The best non- oily hand cream ever. It heals o...</td>\n",
       "      <td>I always have a backup ready.</td>\n",
       "      <td>1523923200</td>\n",
       "      <td>{'Size:': ' 3.5 oz.'}</td>\n",
       "      <td>NaN</td>\n",
       "    </tr>\n",
       "  </tbody>\n",
       "</table>\n",
       "</div>"
      ],
      "text/plain": [
       "   overall vote  verified   reviewTime      reviewerID        asin  \\\n",
       "0        2    3      True  06 15, 2010  A1Q6MUU0B2ZDQG  B00004U9V2   \n",
       "1        5   14      True   01 7, 2010  A3HO2SQDCZIE9S  B00004U9V2   \n",
       "2        5  NaN      True  04 18, 2018  A2EM03F99X3RJZ  B00004U9V2   \n",
       "3        5  NaN      True  04 18, 2018   A3Z74TDRGD0HU  B00004U9V2   \n",
       "4        5  NaN      True  04 17, 2018  A2UXFNW9RTL4VM  B00004U9V2   \n",
       "\n",
       "    reviewerName                                         reviewText  \\\n",
       "0      D. Poston  I bought two of these 8.5 fl oz hand cream, an...   \n",
       "1        chandra  Believe me, over the years I have tried many, ...   \n",
       "2      Maureen G                                  Great hand lotion   \n",
       "3        Terry K  This is the best for the severely dry skin on ...   \n",
       "4  Patricia Wood  The best non- oily hand cream ever. It heals o...   \n",
       "\n",
       "                         summary  unixReviewTime                  style image  \n",
       "0          dispensers don't work      1276560000                    NaN   NaN  \n",
       "1          Best hand cream ever.      1262822400                    NaN   NaN  \n",
       "2                     Five Stars      1524009600  {'Size:': ' 3.5 oz.'}   NaN  \n",
       "3                     Five Stars      1524009600  {'Size:': ' 3.5 oz.'}   NaN  \n",
       "4  I always have a backup ready.      1523923200  {'Size:': ' 3.5 oz.'}   NaN  "
      ]
     },
     "execution_count": 1,
     "metadata": {},
     "output_type": "execute_result"
    }
   ],
   "source": [
    "#setup\n",
    "\n",
    "import pandas as pd\n",
    "import matplotlib.pyplot as plt\n",
    "\n",
    "df = pd.read_json(\n",
    "   \"../data/Luxury_Beauty.json.gz\",\n",
    "    lines=True,\n",
    "    compression=\"gzip\"\n",
    ")\n",
    "\n",
    "print(df.shape)\n",
    "\n",
    "\n",
    "df.head()"
   ]
  },
  {
   "cell_type": "markdown",
   "id": "5c5473d6-b052-41b7-af73-1d9cc60807ec",
   "metadata": {},
   "source": [
    "**Analysis:** The Luxury Beauty dataset contains 574,628 reviews with 12 columns. Each row represents a product review with key fields such as `reviewerID` (user), `asin` (product ID), and `overall` (rating). These three columns will form the basis for building the recommendation system.  "
   ]
  },
  {
   "cell_type": "code",
   "execution_count": 2,
   "id": "867c704a-34a8-4b42-a7e5-fd8929487cc7",
   "metadata": {},
   "outputs": [
    {
     "data": {
      "text/plain": [
       "overall                0\n",
       "vote              470939\n",
       "verified               0\n",
       "reviewTime             0\n",
       "reviewerID             0\n",
       "asin                   0\n",
       "reviewerName          31\n",
       "reviewText           400\n",
       "summary              183\n",
       "unixReviewTime         0\n",
       "style             323615\n",
       "image             567210\n",
       "dtype: int64"
      ]
     },
     "execution_count": 2,
     "metadata": {},
     "output_type": "execute_result"
    }
   ],
   "source": [
    "#missing values\n",
    "df.isna().sum()"
   ]
  },
  {
   "cell_type": "code",
   "execution_count": 5,
   "id": "4604b4de-81ab-48c7-ac90-52c20a6bd129",
   "metadata": {},
   "outputs": [
    {
     "name": "stdout",
     "output_type": "stream",
     "text": [
      "Unique users: 416174\n",
      "Unique products: 12120\n"
     ]
    }
   ],
   "source": [
    "#unqiue users and products\n",
    "\n",
    "n_users = df['reviewerID'].nunique()\n",
    "n_items = df['asin'].nunique()\n",
    "\n",
    "print(\"Unique users:\", n_users)\n",
    "print(\"Unique products:\", n_items)"
   ]
  },
  {
   "cell_type": "markdown",
   "id": "642b7830-4aa9-4b57-8a6d-199a77d90008",
   "metadata": {},
   "source": [
    "**Analysis:** The dataset has ~416k unique users and ~12k unique products. Ratings (`overall`) have no missing values, which is ideal for modeling. Most missing values occur in optional fields like `vote`, `style`, and `image`, which are not critical for collaborative filtering. This confirms the dataset is suitable for building a user–item rating matrix.  "
   ]
  },
  {
   "cell_type": "code",
   "execution_count": 23,
   "id": "f6b3528f-fa40-42e7-8df7-a098c2a7d7a5",
   "metadata": {},
   "outputs": [],
   "source": [
    "def add_percentages():\n",
    "    ax = plt.gca()  # get current axis\n",
    "    total = sum([p.get_height() for p in ax.patches])\n",
    "    for p in ax.patches:\n",
    "        height = p.get_height()\n",
    "        pct = (height / total) * 100\n",
    "        ax.text(\n",
    "            p.get_x() + p.get_width() / 2.,\n",
    "            height,\n",
    "            f\"{pct:.1f}%\",\n",
    "            ha=\"center\", va=\"bottom\", fontsize=9\n",
    "        )"
   ]
  },
  {
   "cell_type": "markdown",
   "id": "e93fddb1-0f7d-4806-bb3d-9d2502ba45bb",
   "metadata": {},
   "source": [
    "##### Helper Function for Adding Percentages  \n",
    "We define a reusable function `add_percentages(ax)` that places percentage labels above each bar in a plot.  "
   ]
  },
  {
   "cell_type": "code",
   "execution_count": 24,
   "id": "7a887026-3bcb-4e09-8143-2bb6247aef43",
   "metadata": {},
   "outputs": [
    {
     "name": "stdout",
     "output_type": "stream",
     "text": [
      "overall\n",
      "1     50501\n",
      "2     29506\n",
      "3     41988\n",
      "4     70481\n",
      "5    382152\n",
      "Name: count, dtype: int64\n"
     ]
    },
    {
     "data": {
      "image/png": "[encoded data removed]",
      "text/plain": [
       "<Figure size 600x400 with 1 Axes>"
      ]
     },
     "metadata": {},
     "output_type": "display_data"
    }
   ],
   "source": [
    "#Rating distribution\n",
    "\n",
    "rating_counts = df['overall'].value_counts().sort_index()\n",
    "\n",
    "print(rating_counts)\n",
    "\n",
    "rating_counts.plot(kind=\"bar\", color=\"skyblue\", figsize=(6,4))\n",
    "plt.title(\"Distribution of Ratings\")\n",
    "plt.xlabel(\"Rating\")\n",
    "plt.ylabel(\"Number of Reviews\")\n",
    "plt.xticks(rotation=0)\n",
    "\n",
    "add_percentages()\n",
    "\n",
    "plt.show()"
   ]
  },
  {
   "cell_type": "markdown",
   "id": "04e9337c-3907-432e-991b-5a8a33664665",
   "metadata": {},
   "source": [
    "**Analysis:** The dataset is heavily skewed toward positive reviews — about 380k (≈66%) are 5-star ratings, while 1–3 star ratings are much fewer. This imbalance means most products are rated highly, which could bias the recommender toward popular items. Evaluation metrics beyond accuracy (e.g., Precision@k, Recall@k) will be more meaningful.  "
   ]
  },
  {
   "cell_type": "code",
   "execution_count": null,
   "id": "2cfce15e-39bf-4c50-a9fe-402c43cb65e5",
   "metadata": {},
   "outputs": [],
   "source": [
    "#Reviews per user\n",
    "\n",
    "user_counts = df['reviewerID'].values_count()\n"
   ]
  },
  {
   "cell_type": "code",
   "execution_count": null,
   "id": "dfe8dc16-1a62-410a-ba3d-439d2350a6fc",
   "metadata": {},
   "outputs": [],
   "source": []
  },
  {
   "cell_type": "code",
   "execution_count": null,
   "id": "e32bd104-50fe-4fc0-8475-4c7365525f5b",
   "metadata": {},
   "outputs": [],
   "source": []
  },
  {
   "cell_type": "code",
   "execution_count": null,
   "id": "2032b0ba-4662-4d36-b2ec-b80d3eb26945",
   "metadata": {},
   "outputs": [],
   "source": []
  },
  {
   "cell_type": "code",
   "execution_count": null,
   "id": "ef4c3cad-92ee-4260-9f3a-ea0edf9953cd",
   "metadata": {},
   "outputs": [],
   "source": []
  },
  {
   "cell_type": "code",
   "execution_count": null,
   "id": "38b11d2c-fb7e-449c-88cf-22932d47da13",
   "metadata": {},
   "outputs": [],
   "source": []
  },
  {
   "cell_type": "code",
   "execution_count": null,
   "id": "0e3e53bc-b17a-41c3-9bc5-f81946e67c3f",
   "metadata": {},
   "outputs": [],
   "source": []
  },
  {
   "cell_type": "code",
   "execution_count": null,
   "id": "99299136-545a-47de-9a5a-e016eedc9a59",
   "metadata": {},
   "outputs": [],
   "source": []
  },
  {
   "cell_type": "code",
   "execution_count": null,
   "id": "dc1422fe-60c1-4d3b-9164-a5b3500c31b3",
   "metadata": {},
   "outputs": [],
   "source": []
  },
  {
   "cell_type": "code",
   "execution_count": null,
   "id": "849060cf-01c2-4a41-945b-0226a233f807",
   "metadata": {},
   "outputs": [],
   "source": []
  },
  {
   "cell_type": "code",
   "execution_count": null,
   "id": "8db519dd-7f9d-416b-8825-69338fb92f25",
   "metadata": {},
   "outputs": [],
   "source": []
  },
  {
   "cell_type": "code",
   "execution_count": null,
   "id": "ba2367b3-6bee-4c79-9a5b-283cd9f96dbf",
   "metadata": {},
   "outputs": [],
   "source": []
  },
  {
   "cell_type": "code",
   "execution_count": null,
   "id": "ffd47946-7044-4edf-a07b-ca89082fa214",
   "metadata": {},
   "outputs": [],
   "source": []
  },
  {
   "cell_type": "code",
   "execution_count": null,
   "id": "d0e3942e-b50a-475b-9adf-889876226c26",
   "metadata": {},
   "outputs": [],
   "source": []
  },
  {
   "cell_type": "code",
   "execution_count": null,
   "id": "7c7d7d9d-9830-44a3-8bd1-b27f0bd4695f",
   "metadata": {},
   "outputs": [],
   "source": []
  },
  {
   "cell_type": "markdown",
   "id": "ee3f4e95-f6c3-426f-9ff2-97e80c096356",
   "metadata": {},
   "source": [
    "#### Model Selection  \n",
    "\n",
    "To build the recommendation engine, we compare a few approaches:  \n",
    "\n",
    "- **Popularity Baseline** → Recommends the most highly rated or most reviewed products overall. Provides a simple starting point.  \n",
    "- **User-based Collaborative Filtering** → Finds users with similar preferences and recommends products they liked.  \n",
    "- **Item-based Collaborative Filtering** → Recommends products similar to those the user has already rated highly.  \n",
    "- **Matrix Factorization (SVD)** → Learns latent factors from the user–item matrix to make more personalized predictions.  \n",
    "\n",
    "This mix balances simplicity, personalization, and scalability.  "
   ]
  },
  {
   "cell_type": "code",
   "execution_count": null,
   "id": "5b5a11f9-f611-4d88-8813-ba62b53014f8",
   "metadata": {},
   "outputs": [],
   "source": []
  }
 ],
 "metadata": {
  "kernelspec": {
   "display_name": "Python [conda env:base] *",
   "language": "python",
   "name": "conda-base-py"
  },
  "language_info": {
   "codemirror_mode": {
    "name": "ipython",
    "version": 3
   },
   "file_extension": ".py",
   "mimetype": "text/x-python",
   "name": "python",
   "nbconvert_exporter": "python",
   "pygments_lexer": "ipython3",
   "version": "3.13.5"
  }
 },
 "nbformat": 4,
 "nbformat_minor": 5
}
